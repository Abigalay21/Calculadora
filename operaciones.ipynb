{
 "cells": [
  {
   "cell_type": "markdown",
   "id": "055d579f-d80d-4f05-b556-54ad5fbea53a",
   "metadata": {},
   "source": [
    "# Calculadora"
   ]
  },
  {
   "cell_type": "code",
   "execution_count": null,
   "id": "8dd29dae-a73b-4b67-88ad-314d6a59c766",
   "metadata": {},
   "outputs": [],
   "source": [
    "  def suma (num1, num2):\n",
    "    return num1 + num2\n",
    "\n",
    "def resta (num1, num2):\n",
    "    return num1 - num2\n",
    "\n",
    "def multiplicacion (num1, num2):\n",
    "    return num1 * num2 \n",
    "\n",
    "def division (num1, num2):\n",
    "    return num1 / num2\n",
    "\n",
    "def potencia (num1, num2):\n",
    "    return num1 ** num2\n",
    "\n",
    "# se muestra el menu\n",
    "print ( \" Inserta el numero de acuerdo a la operacion que deseas realizar\")\n",
    "print (\"1.suma\")\n",
    "print(\"2.resta\")\n",
    "print(\"3.multiplicacion\")\n",
    "print(\"4.division\")\n",
    "print(\"5.potencia\")\n",
    "\n",
    "#Solicitar al usuario que ingrese la opcion\n",
    "\n",
    "opcion = input ( \"Ingresa una opcion (1/2/3/4/5) : \")\n",
    "\n",
    "#Solicitar que ingrese los numeros\n",
    "num1= float (input ( \"Ingresa el primer numero: \"))\n",
    "num2= float (input ( \"Ingresa el segundo numero: \"))\n",
    "\n",
    "#El sistema realiza la operacion seleccionada\n",
    "if opcion == '1':\n",
    "    print(num1 + num2) \n",
    "\n",
    "if opcion == '2':\n",
    "    print(num1 - num2)\n",
    "\n",
    "if opcion == '3':\n",
    "    print(num1 * num2)\n",
    "\n",
    "if opcion == '4':\n",
    "    print(num1 / num2)\n",
    "\n",
    "if opcion == '5':\n",
    "    print(num1**num2)\n"
   ]
  },
  {
   "cell_type": "code",
   "execution_count": null,
   "id": "09908719-a6f3-4fbd-a516-dcdba076ec39",
   "metadata": {},
   "outputs": [],
   "source": []
  }
 ],
 "metadata": {
  "kernelspec": {
   "display_name": "Python 3 (ipykernel)",
   "language": "python",
   "name": "python3"
  },
  "language_info": {
   "codemirror_mode": {
    "name": "ipython",
    "version": 3
   },
   "file_extension": ".py",
   "mimetype": "text/x-python",
   "name": "python",
   "nbconvert_exporter": "python",
   "pygments_lexer": "ipython3",
   "version": "3.12.5"
  }
 },
 "nbformat": 4,
 "nbformat_minor": 5
}
